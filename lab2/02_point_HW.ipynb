{
  "cells": [
    {
      "cell_type": "markdown",
      "metadata": {
        "collapsed": false,
        "id": "m5Q2hnDC3NuL"
      },
      "source": [
        "# Zadanie domowe\n",
        "\n",
        "W przypadku obrazów w odcieniach szarości pojedynczy piksel z zakresu [0; 255] reprezentowany jest jako 8-bitowa liczba bez znaku.\n",
        "Pewnym rozszerzeniem analizy sposobu reprezentacji obrazu może być następujący eksperyment.\n",
        "Załóżmy, że z każdego z 8 bitów możemy stworzyć pojedynczy obraz binarny (ang. _bit-plane slicing_).\n",
        "Dla obrazka _100zloty.jpg_ (https://raw.githubusercontent.com/vision-agh/poc_sw/master/02_Point/100zloty.jpg) stwórz 8 obrazów, z których każdy powinien zawierać jedną płaszczyznę bitową.\n",
        "Podpowiedź $-$ warto sprawdzić, jak realizuje się bitowe operacje logiczne.\n",
        "Zastosowanie takiej dekompozycji obrazu pozwala na analizę ,,ważności'' poszczególnych bitów.\n",
        "Jest to użyteczne w kwantyzacji, ale także w kompresji.\n",
        "\n",
        "W drugim etapie zadania proszę spróbować odtworzyć obraz oryginalny z mniejszej liczby obrazów binarnych.\n",
        "Warto zacząć od dwóch najbardziej znaczących bitów, a później dodawać kolejne.\n",
        "Należy utworzyć co najmniej trzy wersje zrekonstruowanych obrazów.\n",
        "Podpowiedź $-$ rekonstrukcja obrazu to mnożenie przez odpowiednią potęgę liczby 2 (przesunięcie bitowe) oraz dodawanie."
      ]
    },
    {
      "cell_type": "code",
      "execution_count": 2,
      "metadata": {
        "id": "tsKtFztv4T2l"
      },
      "outputs": [],
      "source": [
        "import cv2\n",
        "import os\n",
        "import requests\n",
        "import matplotlib.pyplot as plt\n",
        "\n",
        "url = 'https://raw.githubusercontent.com/vision-agh/poc_sw/master/02_Point/'\n",
        "fileName = '100zloty.jpg'\n",
        "if not os.path.exists(fileName) :\n",
        "    r = requests.get(url + fileName, allow_redirects=True)\n",
        "    open(fileName, 'wb').write(r.content)"
      ]
    },
    {
      "cell_type": "code",
      "execution_count": null,
      "metadata": {},
      "outputs": [],
      "source": [
        "image = plt.imread(\"100zloty.jpg\")\n",
        "plt.imshow(image)\n",
        "plt.axis('off')\n",
        "plt.show()"
      ]
    },
    {
      "cell_type": "code",
      "execution_count": null,
      "metadata": {},
      "outputs": [],
      "source": [
        "grey_image = cv2.cvtColor(image,cv2.COLOR_RGBA2GRAY)\n",
        "\n",
        "bit_planes = [(grey_image >> i) & 1 for i in range(8)]\n",
        "\n",
        "fig, (axis1, axis2) = plt.subplots(2, 4, figsize=(12, 4))\n",
        "for i in range(4):\n",
        "    axis1[i].imshow(bit_planes[i], cmap='gray')\n",
        "    axis1[i].set_title(f'Bit plane {i}')\n",
        "    axis2[i].imshow(bit_planes[i+4], cmap='gray')\n",
        "    axis2[i].set_title(f'Bit plane {i+4}')\n",
        "    axis1[i].axis('off')\n",
        "    axis2[i].axis('off')\n",
        "plt.show()"
      ]
    },
    {
      "cell_type": "code",
      "execution_count": null,
      "metadata": {},
      "outputs": [],
      "source": [
        "bit_plane67 = bit_planes[6] + 2*bit_planes[7]\n",
        "bit_plane567 = 2*bit_plane67 + bit_planes[5]\n",
        "bit_plane4567 = 2*bit_plane567 + bit_planes[4]\n",
        "f,axes = plt.subplots(3,1, figsize=(8,14))\n",
        "axes[0].imshow(bit_plane67,cmap='gray')\n",
        "axes[0].set_title(\"Bity 6 i 7\")\n",
        "axes[0].axis('off')\n",
        "axes[1].imshow(bit_plane567,cmap='gray')\n",
        "axes[1].set_title(\"Bity 5, 6 i 7\")\n",
        "axes[1].axis('off')\n",
        "axes[2].imshow(bit_plane4567,cmap='gray')\n",
        "axes[2].set_title(\"Bity 4, 5, 6 i 7\")\n",
        "axes[2].axis('off')\n",
        "plt.show()"
      ]
    }
  ],
  "metadata": {
    "colab": {
      "provenance": []
    },
    "kernelspec": {
      "display_name": "Python 3",
      "language": "python",
      "name": "python3"
    },
    "language_info": {
      "codemirror_mode": {
        "name": "ipython",
        "version": 3
      },
      "file_extension": ".py",
      "mimetype": "text/x-python",
      "name": "python",
      "nbconvert_exporter": "python",
      "pygments_lexer": "ipython3",
      "version": "3.11.9"
    }
  },
  "nbformat": 4,
  "nbformat_minor": 0
}
