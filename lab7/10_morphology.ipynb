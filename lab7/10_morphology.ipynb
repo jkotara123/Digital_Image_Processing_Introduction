{
  "cells": [
    {
      "cell_type": "markdown",
      "metadata": {
        "id": "NnDX1AhkKHGr"
      },
      "source": [
        "# Przekształcenia morfologiczne\n",
        "\n",
        "## Cel:\n",
        "- zapoznanie z podstawowymi przekształceniami morfologicznymi – erozją, dylatacją, otwarciem, zamknięciem, transformacją trafi, nie trafi,\n",
        "- zapoznanie ze złożonymi operacjami morfologicznymi wykorzystującymi rekonstrukcję morfologiczną,\n",
        "- zapoznanie z operacjami morfologicznym dla obrazów w odcieniach szarości – erozją, dylatacją, otwarciem, zamknięciem, filtrami top-hat i bottom-hat,\n",
        "- zapoznanie z wykorzystaniem złożonych operacji morfologicznych przy rozwiązywaniu konkretnego problemu,\n",
        "- zadanie domowe: wykorzystanie morfologii do implementacji ,,gry w życie''."
      ]
    },
    {
      "cell_type": "markdown",
      "metadata": {
        "id": "CbPVOPm8KHGx"
      },
      "source": [
        "## Przypomnienie teorii\n",
        "\n",
        "### Element strukturalny\n",
        "\n",
        "Element strukturalny obrazu jest to pewien wycinek obrazu (przy dyskretnej reprezentacji obrazu – pewien podzbiór jego elementów).\n",
        "Najczęściej stosowanym elementem strukturalnym jest kwadratowa maska o rozmiarze 3×3 lub 5×5. Niekiedy pożądane są maski o innym kształcie, np. zbliżonym do elipsy.\n",
        "\n",
        "### Erozja\n",
        "\n",
        "Erozja (ang. _erosion_) jest podstawowym przekształceniem morfologicznym.\n",
        "Zakładamy, że obraz wyjściowy zawiera pewien obszar (figurę) X, wyróżniający się pewną charakterystyczną cechą (np. odróżniającą się od tła jasnością).\n",
        "Figura X po wykonaniu operacji erozji to zbiór punktów centralnych wszystkich elementów strukturalnych, które w całości mieszczą się we wnętrzu obszaru X.\n",
        "Miarą stopnia erozji jest wielkość elementu strukturalnego.\n",
        "\n",
        "**Erozję** można traktować jako **filtr minimalny**, tj. z danego otoczenia piksela (określanego przez maskę) do obrazu wynikowego wybierana jest wartość minimalna.\n",
        "\n",
        "### Dylatacja\n",
        "\n",
        "Dylatacja (ang. _dilation_): Zakładamy, że obraz wejściowy zawiera obszar X wyróżniający się pewną charakterystyczną cechą (np. jasnością). Figura przekształcona przez dylatacje to zbiór punktów centralnych wszystkich elementów strukturalnych, których którykolwiek punkt mieści sie we wnętrzu obszaru X. Miarą  dylatacji jest wielkość elementu strukturalnego.\n",
        "\n",
        "**Dylatację** można traktować jako **filtr maksymalny**, tj. z danego otoczenia piksela (określanego\n",
        "przez maskę) do obrazu wynikowego wybierana jest wartość maksymalna.\n",
        "\n",
        "### Otwarcie i zamknięcie\n",
        "\n",
        "Otwarcie (ang. _opening_) polega na wykonaniu najpierw operacji erozji, a następnie dylatacji.\n",
        "\n",
        "> Otwarcie = erozja + dylatacja\n",
        "\n",
        "Zamkniecie (ang. _closing_) polega na wykonaniu najpierw operacji dylatacji, a następnie erozji.\n",
        "\n",
        "> Zamkniecie = dylatacja + erozja\n",
        "\n",
        "### Obrazy w odcieniu szarości\n",
        "\n",
        "Obrazy w odcieniu szarości – detekcja dolin i szczytów (ang. _top-hat_, _bottom-hat_):\n",
        "\n",
        "Aby wyodrębnić z obrazu lokalne ekstrema można wykorzystać zdefiniowane wcześniej przekształcenia: otwarcie i zamkniecie.\n",
        "W celu wyszukania lokalnych maksimów (szczytów) należy od wyniku otwarcia danego obrazu odjąć obraz wyjściowy.\n",
        "Analogicznie, aby wyodrębnić lokalne minima obrazu, należy dokonać podobnej operacji, z tym że pierwszą operacją bedzie zamknięcie.\n",
        "Uwaga! Należy zwrócić uwagę, że poniższe metody służą do detekcji (pokreślenia) tylko lokalnych ekstremów!"
      ]
    },
    {
      "cell_type": "markdown",
      "metadata": {
        "id": "_mWYIIJBKHGz"
      },
      "source": [
        "## Podstawowe operacje morfologiczne: erozja, dylatacja, otwarcie, zamknięcie, trafi nie trafi\n",
        "\n",
        "1. Wczytaj obraz ertka.bmp\n",
        "2. Wykonaj operację erozji `cv2.erode`. Parametrami funkcji są obraz oraz element strukturalny. Element można stworzyć samodzielnie jako tablicę składającą się z 0 i 1 `np.ones((3,3))` lub posłużyć się funkcją `cv2.getStructuringElement`, do której należy podać kształt `cv2.MORPH_RECT` oraz wielkość elementu `(3,3)`. Na początku użyj kwadratu o rozmiarze 3 pikseli.\n",
        "3. Wyświetl obraz oryginalny oraz po wykonaniu erozji – najlepiej na wspólnym wykresie. Upewnij się, że rozumiesz, jak działa erozja.\n",
        "4. Zmień element strukturalny (inny kształt – koło, diament lub inny rozmiar). Ponownie wykonaj erozję, sprawdź rezultat działania operacji.\n",
        "5. Oprócz zmiany elementu strukturalnego na rezultat erozji można wpłynąć zwiększając liczbę iteracji (np. wykonać erozję trzykrotnie). Ustal element strukturalny na kwadrat o boku 3 piksele. Wykonaj erozję obrazu _ertka_ dwukrotnie, a następnie trzykrotnie. Zaobserwuj rezultaty. Wskazówka: warto zajrzeć do dokumentacji funkcji `erode`.\n",
        "6. Wczytaj obraz buzka.bmp. Dobierz element strukturalny (zdefiniuj go ręcznie jako macierz 0 i 1) w taki sposób, aby usunąć włosy o określonej orientacji (ukośnie lewo lub prawo).\n",
        "7. Uwaga: pokazane metody wpływania na rezultaty erozji wykorzystuje się identycznie dla pozostałych operacji morfologicznych – dylatacji, otwarcia i zamknięcia.\n",
        "8. Operacją odwrotną do erozji jest dylatacja `cv2.dilate`. Ustal element strukturalny na kwadrat o boku 3 piksele. Wykonaj dylatację obrazu _ertka_. Zapoznaj się z rezultatem działania.\n",
        "9. Na wspólnym wykresie wyświetl obraz oryginalny oraz obrazy po operacjach morfologicznych: erozja, dylatacja, otwarcie i zamkniecie. Otwarcie i zamknięcie można uzyskać za pomocą `cv2.morphologyEx(img, operacja, element_strukturalny)`, gdzie typem operacji jest `cv2.MORPH_OPEN` lub `cv2.MORPH_CLOSE`.\n",
        "10. Zmień obraz _ertka_ na _wyspa_, a następnie na _kolka_. Wykonaj na każdym cztery przedstawione operacje morfologiczne. Zaobserwuj rezultaty.\n",
        "11. Minizadanko: wykorzystując poznane operacje morfologiczne spowoduj, że na obrazie _ertka_ pozostanie tylko napis RT (bez wypustek i dziur).\n",
        "12. Niekiedy potrzebne jest wykrycie konkretnych konfiguracji pikseli na obrazie – przydaje się do tego transformacja trafi, nie trafi (ang. _hit-or-miss_). Pozwala ona wykryć na obrazie obecność elementów, które dokładnie odpowiadają masce.\n",
        "13. Wczytaj obraz hom.bmp. Wyświetl go. Załóżmy, że chcemy wykryć na obrazie krzyżyki 3x3. Zdefiniuj następujący element strukturalny:\n",
        "```\n",
        "[0,1,0]\n",
        "[1,1,1]\n",
        "[0,1,0]\n",
        "```\n",
        "Wykonaj transformację trafi, nie trafi – `cv2.morphologyEx(hom, cv2.MORPH_HITMISS, se1)`. Rezultat operacji wyświetl. Czy udało się zrealizować zadanie? Jeżeli pojawiają się u Państwa błędy związane z typem danych, należy obraz wejściowy przekonwertować na skalę szarości: `cv2.cvtColor(hom, cv2.COLOR_BGR2GRAY)`.\n"
      ]
    },
    {
      "cell_type": "code",
      "execution_count": 1,
      "metadata": {
        "id": "r375Q-2bKHG1"
      },
      "outputs": [],
      "source": [
        "import matplotlib.pyplot as plt\n",
        "import cv2\n",
        "import numpy as np\n",
        "import os\n",
        "import requests\n",
        "\n",
        "url = 'https://raw.githubusercontent.com/vision-agh/poc_sw/master/10_Morphology/'\n",
        "\n",
        "fileNames = [\"buzka.bmp\", \"calculator.bmp\", \"ertka.bmp\", \"ferrari.bmp\", \"fingerprint.bmp\", \"hom.bmp\", \"kolka.bmp\", \"kosc.bmp\", \"szkielet.bmp\", \"text.bmp\", \"wyspa.bmp\", \"rice.png\", \"gra.py\"]\n",
        "for fileName in fileNames:\n",
        "  if not os.path.exists(fileName):\n",
        "      r = requests.get(url + fileName, allow_redirects=True)\n",
        "      open(fileName, 'wb').write(r.content)\n"
      ]
    },
    {
      "cell_type": "code",
      "execution_count": 2,
      "metadata": {},
      "outputs": [],
      "source": [
        "def plot_img(img):\n",
        "    plt.imshow(img, cmap='gray')\n",
        "    plt.axis('off')\n",
        "    plt.show()\n",
        "    \n",
        "def plot_img_compare(imgs, titles=None, shape=None):\n",
        "    if not shape:\n",
        "        shape = (1, len(imgs))\n",
        "\n",
        "    fig, axs = plt.subplots(shape[0], shape[1], figsize=(shape[1]*5, shape[0]*5))\n",
        "\n",
        "    axs = np.array(axs).reshape(shape)\n",
        "        \n",
        "    for i, img in enumerate(imgs):\n",
        "        index = np.unravel_index(i, shape)      \n",
        "        if i < len(imgs):\n",
        "            axs[index].imshow(img, cmap='gray')\n",
        "            if titles:\n",
        "                axs[index].set_title(titles[i])\n",
        "    \n",
        "    \n",
        "    for axs in axs.ravel():\n",
        "        axs.axis('off')    \n",
        "\n",
        "    plt.tight_layout()\n",
        "    plt.show()"
      ]
    },
    {
      "cell_type": "code",
      "execution_count": null,
      "metadata": {},
      "outputs": [],
      "source": [
        "ertka_img = cv2.imread(\"ertka.bmp\", cv2.IMREAD_GRAYSCALE)\n",
        "\n",
        "plot_img_compare([ertka_img], [\"Original\"])"
      ]
    },
    {
      "cell_type": "code",
      "execution_count": null,
      "metadata": {},
      "outputs": [],
      "source": [
        "plot_img_compare([ertka_img, \n",
        "                  cv2.erode(ertka_img, cv2.getStructuringElement(cv2.MORPH_RECT, (3, 3)), iterations=1)\n",
        "                  ], [\"Original\", \"Erosion 3x3 1 iteration\"])"
      ]
    },
    {
      "cell_type": "code",
      "execution_count": null,
      "metadata": {},
      "outputs": [],
      "source": [
        "plot_img_compare([ertka_img, \n",
        "                  cv2.erode(ertka_img, cv2.getStructuringElement(cv2.MORPH_RECT, (5, 5)), iterations=1),\n",
        "                  cv2.erode(ertka_img, cv2.getStructuringElement(cv2.MORPH_ELLIPSE, (3, 3)), iterations=1),\n",
        "                  cv2.erode(ertka_img, cv2.getStructuringElement(cv2.MORPH_CROSS, (7, 7)), iterations=1)\n",
        "                  ], [\"Original\", \"Erosion 5x5 1 iteration\", \"Erosion ellipse 3x3 1 iteration\", \"Erosion cross 7x7 1 iteration\"])"
      ]
    },
    {
      "cell_type": "code",
      "execution_count": null,
      "metadata": {},
      "outputs": [],
      "source": [
        "plot_img_compare([ertka_img, \n",
        "                  cv2.erode(ertka_img, cv2.getStructuringElement(cv2.MORPH_RECT, (5, 5)), iterations=1),\n",
        "                  cv2.erode(ertka_img, cv2.getStructuringElement(cv2.MORPH_RECT, (3, 3)), iterations=2),\n",
        "                  cv2.erode(ertka_img, cv2.getStructuringElement(cv2.MORPH_RECT, (3, 3)), iterations=3)\n",
        "                  ], [\"Original\", \"Erosion 3x3 1 iteration\", \"Erosion 3x3 2 iteration\", \"Erosion cross 3x3 3 iteration\"])"
      ]
    },
    {
      "cell_type": "code",
      "execution_count": null,
      "metadata": {},
      "outputs": [],
      "source": [
        "buzka_img = cv2.imread(\"buzka.bmp\", cv2.IMREAD_GRAYSCALE)\n",
        "kernel = np.matrix(\n",
        "    [[0, 0, 1],\n",
        "     [0, 1, 0],\n",
        "     [1, 0, 0]], np.uint8)\n",
        "\n",
        "plot_img_compare([buzka_img,\n",
        "                    cv2.erode(buzka_img, kernel, iterations=1)\n",
        "                    ], [\"Original\", \"Erosion custom kernel 1 iteration\"])"
      ]
    },
    {
      "cell_type": "code",
      "execution_count": null,
      "metadata": {},
      "outputs": [],
      "source": [
        "plot_img_compare([ertka_img, \n",
        "                  cv2.dilate(ertka_img, cv2.getStructuringElement(cv2.MORPH_RECT, (3, 3)), iterations=1)\n",
        "                  ], [\"Original\", \"Dilatation 3x3 1 iteration\"])"
      ]
    },
    {
      "cell_type": "code",
      "execution_count": null,
      "metadata": {},
      "outputs": [],
      "source": [
        "plot_img_compare([ertka_img, \n",
        "                  cv2.dilate(ertka_img, cv2.getStructuringElement(cv2.MORPH_RECT, (5, 5)), iterations=1),\n",
        "                  cv2.dilate(ertka_img, cv2.getStructuringElement(cv2.MORPH_ELLIPSE, (3, 3)), iterations=1),\n",
        "                  cv2.dilate(ertka_img, cv2.getStructuringElement(cv2.MORPH_CROSS, (7, 7)), iterations=1)\n",
        "                  ], [\"Original\", \"Dilatation 5x5 1 iteration\", \"Dilatation ellipse 3x3 1 iteration\", \"Dilatation cross 3x3 1 iteration\"])"
      ]
    },
    {
      "cell_type": "code",
      "execution_count": null,
      "metadata": {},
      "outputs": [],
      "source": [
        "plot_img_compare([ertka_img, \n",
        "                  cv2.dilate(ertka_img, cv2.getStructuringElement(cv2.MORPH_RECT, (3, 3)), iterations=1),\n",
        "                  cv2.dilate(ertka_img, cv2.getStructuringElement(cv2.MORPH_RECT, (3, 3)), iterations=2),\n",
        "                  cv2.dilate(ertka_img, cv2.getStructuringElement(cv2.MORPH_RECT, (3, 3)), iterations=3)\n",
        "                  ], [\"Original\", \"Dilatation 3x3 1 iteration\", \"Dilatation 3x3 2 iteration\", \"Dilatation 3x3 3 iteration\"])"
      ]
    },
    {
      "cell_type": "code",
      "execution_count": null,
      "metadata": {},
      "outputs": [],
      "source": [
        "plot_img_compare([ertka_img,\n",
        "    cv2.erode(ertka_img, cv2.getStructuringElement(cv2.MORPH_RECT, (3, 3)), iterations=1),\n",
        "    cv2.dilate(ertka_img, cv2.getStructuringElement(cv2.MORPH_RECT, (3, 3)), iterations=1),\n",
        "    cv2.morphologyEx(ertka_img, cv2.MORPH_OPEN, cv2.getStructuringElement(cv2.MORPH_RECT, (3, 3))),\n",
        "    cv2.morphologyEx(ertka_img, cv2.MORPH_CLOSE, cv2.getStructuringElement(cv2.MORPH_RECT, (3, 3)))\n",
        "    ], [\"Original\", \"Erosion 3x3 1 iteration\", \"Dilatation 3x3 1 iteration\", \"Opening 3x3\", \"Closing 3x3\"]\n",
        "    , shape=(2, 3))"
      ]
    },
    {
      "cell_type": "code",
      "execution_count": 13,
      "metadata": {},
      "outputs": [],
      "source": [
        "wyspa_img = cv2.imread(\"wyspa.bmp\", cv2.IMREAD_GRAYSCALE)\n",
        "kolka_img = cv2.imread(\"kolka.bmp\", cv2.IMREAD_GRAYSCALE)"
      ]
    },
    {
      "cell_type": "code",
      "execution_count": null,
      "metadata": {},
      "outputs": [],
      "source": [
        "plot_img_compare([wyspa_img,\n",
        "    cv2.erode(wyspa_img, cv2.getStructuringElement(cv2.MORPH_RECT, (3, 3)), iterations=1),\n",
        "    cv2.dilate(wyspa_img, cv2.getStructuringElement(cv2.MORPH_RECT, (3, 3)), iterations=1),\n",
        "    cv2.morphologyEx(wyspa_img, cv2.MORPH_OPEN, cv2.getStructuringElement(cv2.MORPH_RECT, (3, 3))),\n",
        "    cv2.morphologyEx(wyspa_img, cv2.MORPH_CLOSE, cv2.getStructuringElement(cv2.MORPH_RECT, (3, 3)))\n",
        "    ], [\"Original\", \"Erosion 3x3 1 iteration\", \"Dilatation 3x3 1 iteration\", \"Opening 3x3\", \"Closing 3x3\"]\n",
        "    , shape=(2, 3))"
      ]
    },
    {
      "cell_type": "code",
      "execution_count": null,
      "metadata": {},
      "outputs": [],
      "source": [
        "plot_img_compare([kolka_img,\n",
        "    cv2.erode(kolka_img, cv2.getStructuringElement(cv2.MORPH_RECT, (3, 3)), iterations=1),\n",
        "    cv2.dilate(kolka_img, cv2.getStructuringElement(cv2.MORPH_RECT, (3, 3)), iterations=1),\n",
        "    cv2.morphologyEx(kolka_img, cv2.MORPH_OPEN, cv2.getStructuringElement(cv2.MORPH_RECT, (3, 3))),\n",
        "    cv2.morphologyEx(kolka_img, cv2.MORPH_CLOSE, cv2.getStructuringElement(cv2.MORPH_RECT, (3, 3)))\n",
        "    ], [\"Original\", \"Erosion 3x3 1 iteration\", \"Dilatation 3x3 1 iteration\", \"Opening 3x3\", \"Closing 3x3\"]\n",
        "    , shape=(2, 3))"
      ]
    },
    {
      "cell_type": "code",
      "execution_count": null,
      "metadata": {},
      "outputs": [],
      "source": [
        "ertka_clean = cv2.morphologyEx(ertka_img, cv2.MORPH_OPEN, cv2.getStructuringElement(cv2.MORPH_RECT, (3, 3)))\n",
        "ertka_clean = cv2.morphologyEx(ertka_clean, cv2.MORPH_CLOSE, cv2.getStructuringElement(cv2.MORPH_RECT, (5, 5)))\n",
        "\n",
        "plot_img_compare([\n",
        "    ertka_img,\n",
        "    ertka_clean,\n",
        "])"
      ]
    },
    {
      "cell_type": "code",
      "execution_count": null,
      "metadata": {},
      "outputs": [],
      "source": [
        "hom_img = cv2.imread(\"hom.bmp\", cv2.IMREAD_GRAYSCALE)\n",
        "cross_kernel = np.matrix(\n",
        "    [[0, 1, 0],\n",
        "     [1, 1, 1],\n",
        "     [0, 1, 0]], np.uint8)\n",
        "\n",
        "plot_img_compare([hom_img,\n",
        "    cv2.morphologyEx(hom_img, cv2.MORPH_HITMISS, cross_kernel)\n",
        "])"
      ]
    },
    {
      "cell_type": "markdown",
      "metadata": {
        "id": "QgLQKgtvKHG2"
      },
      "source": [
        "## Inne operacje morfologiczne\n",
        "Do innych operacji morfologicznych należą między innymi ścienianie (ang. _thinning_), szkieletyzacja (ang. _skeletonization_), rekonstrukcja morfologiczna (ang. _morphological reconstruction_), czyszczenie brzegu (ang. _clearing border_) i uzupełnianie dziur (ang. _filling holes_). W tym rozdziale zostanie zaprezentowana rekonstrukcja morfologiczna.\n",
        "\n",
        "Rekonstrukcja morfologiczna jest operacją trójargumentową. Wymaga podania markera (obrazu, od którego zacznie się transformacja), maski (ograniczenia transformacji) oraz elementu strukturalnego. Operacja polega na wykonywaniu kroków (dopóki w dwóch kolejnych iteracjach nic się nie zmieni):\n",
        "- dylatacja obrazu markera (z danym elementem strukturalnym),\n",
        "- nowy marker = część wspólna dylatacji starego markera i maski.\n",
        "\n",
        "Trzy operacje, które wykorzystują schemat rekonstrukcji to:\n",
        "- otwarcie poprzez rekonstrukcję,\n",
        "- wypełnianie dziur,\n",
        "- czyszczenie brzegu.\n",
        "\n",
        "### Otwarcie poprzez rekonstrukcję:\n",
        "- Wczytaj obraz text.bmp, wyświetl go.\n",
        "- Załóżmy, że chcemy wykryć na obrazie litery, które zawierają długie pionowe fragmenty. W pierwszym podejściu stosujemy morfologiczne otwarcie z maską pionową o wysokości 51 pikseli (taka jest średnia wysokość liter na obrazie – `np.ones((51,1))`. Sprawdź rezultat takiej operacji.\n",
        "- Detekcja wprawdzie sie udała, ale otrzymujemy tylko pionowe kreski.\n",
        "- Rozwiązaniem jest rekonstrukcja – jako marker wybieramy obraz oryginalny poddany erozji. Maskę stanowi obraz oryginalny. Samodzielnie dobierz element strukturalny.\n",
        "- Zaimplementuj rekonstrukcję i porównaj efekt otwarcia i rekonstrukcji.\n"
      ]
    },
    {
      "cell_type": "code",
      "execution_count": null,
      "metadata": {
        "id": "6oy1-pqdKHG3"
      },
      "outputs": [],
      "source": [
        "text_img = cv2.imread(\"text.bmp\", cv2.IMREAD_GRAYSCALE)\n",
        "text_opening = cv2.morphologyEx(text_img, cv2.MORPH_OPEN, np.ones((51, 1)))\n",
        "plot_img_compare([text_img,\n",
        "    text_opening\n",
        "], [\"Original\", \"Opening 51x1\"])"
      ]
    },
    {
      "cell_type": "code",
      "execution_count": 20,
      "metadata": {},
      "outputs": [],
      "source": [
        "def reconstruction(marker, mask, kernel):\n",
        "    while True:\n",
        "        marker_old = marker\n",
        "        marker = cv2.dilate(marker, kernel, iterations=1)\n",
        "        marker = np.clip(cv2.multiply(marker, mask), 0, 255)\n",
        "        \n",
        "        if (marker == marker_old).all():\n",
        "            break\n",
        "\n",
        "    return marker"
      ]
    },
    {
      "cell_type": "code",
      "execution_count": null,
      "metadata": {},
      "outputs": [],
      "source": [
        "marker = cv2.erode(text_opening, cv2.getStructuringElement(cv2.MORPH_RECT, (3, 3)), iterations=1)\n",
        "mask = text_img\n",
        "kernel = cv2.getStructuringElement(cv2.MORPH_RECT, (3, 3))\n",
        "reconstructed = reconstruction(marker, mask, kernel)\n",
        "\n",
        "plot_img_compare([text_img,\n",
        "                  text_opening,\n",
        "                  reconstructed\n",
        "], [\"Original\", \"Opening 51x1\", \"Reconstruction\"])    "
      ]
    },
    {
      "cell_type": "markdown",
      "metadata": {
        "id": "x_irwB7fKHG3"
      },
      "source": [
        "## Operacje morfologiczne dla obrazów w skali szarości\n",
        "\n",
        "Wszystkie dotychczasowe operacje (oprócz transformacji trafi, nie trafi) mają swoje odpowieniki dla obrazów w skali szarości. Konieczne jest tylko podanie definicji erozji i dylatacji w nieco innej formie:\n",
        "- Erozja – filtr minimalny.\n",
        "- Dylatacja – filtr maksymalny.\n",
        "\n",
        "\n",
        "1. Wczytaj obraz ferrari.bmp i wykonaj operacje morfologiczne: erozję i dylatację. Element strukturalny ustal na kwadrat 3×3. Oblicz też różnicę pomiędzy obrazem po dylatacji a po erozji – czyli tzw. gradient morfologiczny. Rezultaty wyświetl na wspólnym wykresie.\n",
        "2. Otwarcie to tłumienie jasnych detali na obrazie. Zamkniecie to tłumienie ciemnych detali na obrazie. Potwierdź powyższe stwierdzenia wykonując obie operacje na obrazie _ferrari_.\n",
        "3. Wykonaj operacje top-hat i bottom-hat `cv2.morphologyEx(img, cv2.MORPH_TOPHAT, strel)` oraz `cv2.morphologyEx(img, cv2.MORPH_BLACKHAT, strel)` na obrazie _ferrari_. Jakie obszary udało sie wykryć za pomocą tej operacji? Z jakich operacji składa sie filtr top-hat?\n",
        "4. Wczytaj obraz rice.png (z laboratorium o binaryzacji). Wyświetl go. Zwróć uwage na niejednorodne oświetlenie. Wykonaj operacje top-hat z dużym elementem strukturalnym (np. koło o rozmiarze 10) na tym obrazie. Wynik wyświetl. Co stało się z niejednorodnością oświetlenia?"
      ]
    },
    {
      "cell_type": "code",
      "execution_count": null,
      "metadata": {
        "id": "jmp6zrXkKHG4",
        "pycharm": {
          "name": "#%%\n"
        }
      },
      "outputs": [],
      "source": [
        "ferarri_img = cv2.imread(\"ferrari.bmp\", cv2.IMREAD_GRAYSCALE)\n",
        "erosion = cv2.erode(ferarri_img, cv2.getStructuringElement(cv2.MORPH_RECT, (3, 3)), iterations=1)\n",
        "dilatation = cv2.dilate(ferarri_img, cv2.getStructuringElement(cv2.MORPH_RECT, (3, 3)), iterations=1)\n",
        "plot_img_compare([\n",
        "    ferarri_img,\n",
        "    erosion,\n",
        "    dilatation,\n",
        "    cv2.subtract(dilatation, erosion),\n",
        "], [\"Original\", \"Erosion 3x3 1 iteration\", \"Dilatation 3x3 1 iteration\", \"Dilatation - Erosion\"])"
      ]
    },
    {
      "cell_type": "code",
      "execution_count": null,
      "metadata": {},
      "outputs": [],
      "source": [
        "plot_img_compare([\n",
        "    ferarri_img,\n",
        "    cv2.morphologyEx(ferarri_img, cv2.MORPH_OPEN, cv2.getStructuringElement(cv2.MORPH_RECT, (3, 3))),\n",
        "    cv2.morphologyEx(ferarri_img, cv2.MORPH_CLOSE, cv2.getStructuringElement(cv2.MORPH_RECT, (3, 3))),\n",
        "], [\"Original\", \"Opening 3x3\", \"Closing 3x3\"])"
      ]
    },
    {
      "cell_type": "code",
      "execution_count": null,
      "metadata": {},
      "outputs": [],
      "source": [
        "plot_img_compare([\n",
        "    ferarri_img,\n",
        "    cv2.morphologyEx(ferarri_img, cv2.MORPH_TOPHAT, cv2.getStructuringElement(cv2.MORPH_RECT, (3, 3))),\n",
        "    cv2.morphologyEx(ferarri_img, cv2.MORPH_BLACKHAT, cv2.getStructuringElement(cv2.MORPH_RECT, (3, 3))),\n",
        "], [\"Original\", \"Tophat 3x3\", \"Blackhat 3x3\"])"
      ]
    },
    {
      "cell_type": "code",
      "execution_count": null,
      "metadata": {},
      "outputs": [],
      "source": [
        "rice_img = cv2.imread(\"rice.png\", cv2.IMREAD_GRAYSCALE)\n",
        "plot_img_compare([rice_img, \n",
        "                  cv2.morphologyEx(rice_img, cv2.MORPH_TOPHAT, cv2.getStructuringElement(cv2.MORPH_ELLIPSE, (15, 15)))\n",
        "                  ], [\"Original\", \"Tophat 15x15\"])"
      ]
    },
    {
      "cell_type": "markdown",
      "metadata": {
        "id": "qIwoiXs-KHG4"
      },
      "source": [
        "## Przykład zastosowania morfologii\n",
        "\n",
        "1. Wczytaj obraz calculator.bmp. Wyświetl go. Zadanie do realizacji: wyizolować tekst na klawiszach kalkulatora.\n",
        "2. W pierwszym kroku usunięte zostaną poziome odbicia znajdujące się na górnej krawędzi każdego z klawiszy. Wykorzystamy fakt, że odbicie jest dłuższe niż jakikolwiek pojedynczy znak. Wykonujemy otwarcie przez rekonstrukcję (można wykorzystać kod z wcześniejszego zadania, ale tym razem mamy do czynienia z obrazem w skali szarości zamiast z binarnym – proszę się zastanowić, jaka operacja jest odpowiednikiem operacji AND?):\n",
        "  - początkowo wykonujemy erozję z elementem strukturalnym w postaci poziomej linii — `np.ones((1,71))`,\n",
        "  - następnie dokonujemy rekonstrukcji: marker – obraz po erozji, maska – obraz oryginalny,\n",
        "  - wynik operacji wyświetl. Dla porównania wyświetl wynik klasycznego otwarcia z takim samym elementem strukturalnym. W czym otwarcie przez rekonstrukcję jest lepsze od klasycznego?\n",
        "3. W poprzednim kroku (tj. w wyniku otwarcia przez rekonstrukcję) uzyskaliśmy obraz tła. Należy go teraz odjąć od obrazu oryginalnego. Ten rodzaj operacji można nazwać top-hat poprzez rekonstrukcję. Wynik wyświetl. Dla porównania wyświetl wynik klasycznej operacji top-hat – różnicy miedzy obrazem oryginalnym a obrazem po klasycznym otwarciu.\n",
        "4. W podobny sposób należy zlikwidować odblaski pionowe:\n",
        "  - erozja z elementem strukturalnym w postaci poziomej linii – `np.ones((1,11))` – zostaną zachowane wszystkie znaki (bo prawie wszystkie są szersze). Uwaga. Operacje wykonujemy na uzyskanym w kroku 3 rezultacie odjęcia od obrazu oryginalnego, obrazu po rekonstrukcji.\n",
        "  - rekonstrukcja: marker – obraz po erozji, maska – obraz z punktu 3 (różnica oryginalnego i tła),\n",
        "  - wynik wyświetl.\n",
        "5. Rezultat jest niemal satysfakcjonujący, ale wystąpił problem z cienkimi pionowymi elementami napisów – np. I na klawiszu ASIN. Wykorzystując fakt, że usunięte znaki znajdują się w bezpośrednim sąsiedztwie istniejących znaków wykonujemy następujące operacje:\n",
        "  - dylatacja z elementem `np.ones((1,21))`,\n",
        "  - rekonstrukcja z markerem w postaci – minimum(obraz po dylatacji z punktu powyżej, obraz uzyskany w punkcie 3, tj. różnica oryginalnego i tła) oraz maską – obraz z pkt. 3.\n",
        "6. Rezultat wyświetl. Czy za pomocą zaproponowanych operacji udało się uzyskać zamierzony efekt – ekstrakcję napisów?\n"
      ]
    },
    {
      "cell_type": "code",
      "execution_count": null,
      "metadata": {
        "id": "DIy6L9S7KHG5",
        "pycharm": {
          "name": "#%%\n"
        }
      },
      "outputs": [],
      "source": [
        "calculator_img = cv2.imread(\"calculator.bmp\", cv2.IMREAD_GRAYSCALE)\n",
        "plot_img_compare([calculator_img])"
      ]
    },
    {
      "cell_type": "code",
      "execution_count": 27,
      "metadata": {},
      "outputs": [],
      "source": [
        "def reconstruction_grayscale(marker, mask, kernel):\n",
        "    while True:\n",
        "        marker_old = marker\n",
        "        marker = cv2.dilate(marker, kernel, iterations=1)\n",
        "        marker = cv2.min(marker, mask)\n",
        "\n",
        "        if (marker == marker_old).all():\n",
        "            break\n",
        "\n",
        "    return marker"
      ]
    },
    {
      "cell_type": "code",
      "execution_count": null,
      "metadata": {},
      "outputs": [],
      "source": [
        "marker = cv2.morphologyEx(calculator_img, cv2.MORPH_ERODE, np.ones((1, 71)))\n",
        "mask = calculator_img\n",
        "kernel = cv2.getStructuringElement(cv2.MORPH_RECT, (3, 3))\n",
        "calculator_reconstructed = reconstruction_grayscale(marker, mask, kernel)\n",
        "\n",
        "calculator_opening = cv2.morphologyEx(calculator_img, cv2.MORPH_OPEN, np.ones((1, 71)))\n",
        "\n",
        "plot_img_compare([calculator_img, \n",
        "                  marker,\n",
        "                  calculator_opening,\n",
        "                  calculator_reconstructed\n",
        "                  ], [\"Original\", \"Marker\", \"Opening 1x71\", \"Reconstruction\"])"
      ]
    },
    {
      "cell_type": "code",
      "execution_count": null,
      "metadata": {},
      "outputs": [],
      "source": [
        "top_hat_reconstructed = cv2.subtract(calculator_img, calculator_reconstructed)\n",
        "top_hat = cv2.subtract(calculator_img, calculator_opening)\n",
        "\n",
        "plot_img_compare([calculator_img,\n",
        "                    top_hat,\n",
        "                    top_hat_reconstructed\n",
        "                    ], [\"Original\", \"TopHat 1x71\", \"TopHat reconstructed\"])"
      ]
    },
    {
      "cell_type": "code",
      "execution_count": null,
      "metadata": {},
      "outputs": [],
      "source": [
        "marker = cv2.morphologyEx(top_hat_reconstructed, cv2.MORPH_ERODE, np.ones((1, 11)))\n",
        "mask = top_hat_reconstructed\n",
        "kernel = cv2.getStructuringElement(cv2.MORPH_RECT, (3, 3))\n",
        "\n",
        "calculator_text = reconstruction_grayscale(marker, mask, kernel)\n",
        "\n",
        "plot_img_compare([calculator_img,\n",
        "                    calculator_text\n",
        "                    ], [\"Original\", \"Text\"])"
      ]
    },
    {
      "cell_type": "code",
      "execution_count": null,
      "metadata": {},
      "outputs": [],
      "source": [
        "calculator_dilatation = cv2.dilate(calculator_text, np.ones((1, 21)), iterations=1)\n",
        "marker = cv2.min(calculator_dilatation, top_hat_reconstructed)\n",
        "mask = top_hat_reconstructed\n",
        "kernel = cv2.getStructuringElement(cv2.MORPH_RECT, (3, 3))\n",
        "\n",
        "calculator_reconstructed = reconstruction_grayscale(marker, mask, kernel)\n",
        "\n",
        "plot_img_compare([calculator_img,\n",
        "                    calculator_reconstructed\n",
        "                    ], [\"Original\", \"Text extraction\"])"
      ]
    }
  ],
  "metadata": {
    "celltoolbar": "Raw Cell Format",
    "colab": {
      "provenance": []
    },
    "kernelspec": {
      "display_name": "Python 3",
      "language": "python",
      "name": "python3"
    },
    "language_info": {
      "codemirror_mode": {
        "name": "ipython",
        "version": 3
      },
      "file_extension": ".py",
      "mimetype": "text/x-python",
      "name": "python",
      "nbconvert_exporter": "python",
      "pygments_lexer": "ipython3",
      "version": "3.11.9"
    }
  },
  "nbformat": 4,
  "nbformat_minor": 0
}
